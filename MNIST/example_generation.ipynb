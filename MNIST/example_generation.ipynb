{
 "cells": [
  {
   "cell_type": "markdown",
   "id": "d3957e3e-4d52-4b6e-b4a3-e39a84d781f6",
   "metadata": {},
   "source": [
    "# In this notebook, we run generation with a trained channel-conditioning model"
   ]
  },
  {
   "cell_type": "code",
   "execution_count": 1,
   "id": "af1080e4-030a-4ed2-92cc-aa6f35497bd5",
   "metadata": {
    "tags": []
   },
   "outputs": [
    {
     "name": "stdout",
     "output_type": "stream",
     "text": [
      "Requirement already satisfied: torch in /opt/conda/envs/sagemaker-distribution/lib/python3.10/site-packages (from -r requirements.txt (line 1)) (2.0.0.post101)\n",
      "Requirement already satisfied: pytorch-lightning in /opt/conda/envs/sagemaker-distribution/lib/python3.10/site-packages (from -r requirements.txt (line 2)) (2.0.9)\n",
      "Requirement already satisfied: torchvision in /opt/conda/envs/sagemaker-distribution/lib/python3.10/site-packages (from -r requirements.txt (line 3)) (0.15.2a0+072ec57)\n",
      "Requirement already satisfied: tensorboard in /opt/conda/envs/sagemaker-distribution/lib/python3.10/site-packages (from -r requirements.txt (line 4)) (2.12.3)\n",
      "Requirement already satisfied: matplotlib in /opt/conda/envs/sagemaker-distribution/lib/python3.10/site-packages (from -r requirements.txt (line 5)) (3.8.3)\n",
      "Requirement already satisfied: filelock in /opt/conda/envs/sagemaker-distribution/lib/python3.10/site-packages (from torch->-r requirements.txt (line 1)) (3.13.3)\n",
      "Requirement already satisfied: typing-extensions in /opt/conda/envs/sagemaker-distribution/lib/python3.10/site-packages (from torch->-r requirements.txt (line 1)) (4.5.0)\n",
      "Requirement already satisfied: sympy in /opt/conda/envs/sagemaker-distribution/lib/python3.10/site-packages (from torch->-r requirements.txt (line 1)) (1.12)\n",
      "Requirement already satisfied: networkx in /opt/conda/envs/sagemaker-distribution/lib/python3.10/site-packages (from torch->-r requirements.txt (line 1)) (3.2.1)\n",
      "Requirement already satisfied: jinja2 in /opt/conda/envs/sagemaker-distribution/lib/python3.10/site-packages (from torch->-r requirements.txt (line 1)) (3.1.3)\n",
      "Requirement already satisfied: numpy>=1.17.2 in /opt/conda/envs/sagemaker-distribution/lib/python3.10/site-packages (from pytorch-lightning->-r requirements.txt (line 2)) (1.26.4)\n",
      "Requirement already satisfied: tqdm>=4.57.0 in /opt/conda/envs/sagemaker-distribution/lib/python3.10/site-packages (from pytorch-lightning->-r requirements.txt (line 2)) (4.66.2)\n",
      "Requirement already satisfied: PyYAML>=5.4 in /opt/conda/envs/sagemaker-distribution/lib/python3.10/site-packages (from pytorch-lightning->-r requirements.txt (line 2)) (6.0.1)\n",
      "Requirement already satisfied: fsspec>2021.06.0 in /opt/conda/envs/sagemaker-distribution/lib/python3.10/site-packages (from fsspec[http]>2021.06.0->pytorch-lightning->-r requirements.txt (line 2)) (2023.6.0)\n",
      "Requirement already satisfied: torchmetrics>=0.7.0 in /opt/conda/envs/sagemaker-distribution/lib/python3.10/site-packages (from pytorch-lightning->-r requirements.txt (line 2)) (1.0.3)\n",
      "Requirement already satisfied: packaging>=17.1 in /opt/conda/envs/sagemaker-distribution/lib/python3.10/site-packages (from pytorch-lightning->-r requirements.txt (line 2)) (23.2)\n",
      "Requirement already satisfied: lightning-utilities>=0.7.0 in /opt/conda/envs/sagemaker-distribution/lib/python3.10/site-packages (from pytorch-lightning->-r requirements.txt (line 2)) (0.11.2)\n",
      "Requirement already satisfied: requests in /opt/conda/envs/sagemaker-distribution/lib/python3.10/site-packages (from torchvision->-r requirements.txt (line 3)) (2.31.0)\n",
      "Requirement already satisfied: pillow!=8.3.*,>=5.3.0 in /opt/conda/envs/sagemaker-distribution/lib/python3.10/site-packages (from torchvision->-r requirements.txt (line 3)) (9.5.0)\n",
      "Requirement already satisfied: absl-py>=0.4 in /opt/conda/envs/sagemaker-distribution/lib/python3.10/site-packages (from tensorboard->-r requirements.txt (line 4)) (2.1.0)\n",
      "Requirement already satisfied: grpcio>=1.48.2 in /opt/conda/envs/sagemaker-distribution/lib/python3.10/site-packages (from tensorboard->-r requirements.txt (line 4)) (1.54.3)\n",
      "Requirement already satisfied: google-auth<3,>=1.6.3 in /opt/conda/envs/sagemaker-distribution/lib/python3.10/site-packages (from tensorboard->-r requirements.txt (line 4)) (2.29.0)\n",
      "Requirement already satisfied: google-auth-oauthlib<1.1,>=0.5 in /opt/conda/envs/sagemaker-distribution/lib/python3.10/site-packages (from tensorboard->-r requirements.txt (line 4)) (1.0.0)\n",
      "Requirement already satisfied: markdown>=2.6.8 in /opt/conda/envs/sagemaker-distribution/lib/python3.10/site-packages (from tensorboard->-r requirements.txt (line 4)) (3.6)\n",
      "Requirement already satisfied: protobuf in /opt/conda/envs/sagemaker-distribution/lib/python3.10/site-packages (from tensorboard->-r requirements.txt (line 4)) (4.21.12)\n",
      "Requirement already satisfied: setuptools>=41.0.0 in /opt/conda/envs/sagemaker-distribution/lib/python3.10/site-packages (from tensorboard->-r requirements.txt (line 4)) (69.2.0)\n",
      "Requirement already satisfied: tensorboard-data-server<0.8.0,>=0.7.0 in /opt/conda/envs/sagemaker-distribution/lib/python3.10/site-packages (from tensorboard->-r requirements.txt (line 4)) (0.7.0)\n",
      "Requirement already satisfied: werkzeug>=1.0.1 in /opt/conda/envs/sagemaker-distribution/lib/python3.10/site-packages (from tensorboard->-r requirements.txt (line 4)) (3.0.2)\n",
      "Requirement already satisfied: wheel>=0.26 in /opt/conda/envs/sagemaker-distribution/lib/python3.10/site-packages (from tensorboard->-r requirements.txt (line 4)) (0.43.0)\n",
      "Requirement already satisfied: contourpy>=1.0.1 in /opt/conda/envs/sagemaker-distribution/lib/python3.10/site-packages (from matplotlib->-r requirements.txt (line 5)) (1.2.0)\n",
      "Requirement already satisfied: cycler>=0.10 in /opt/conda/envs/sagemaker-distribution/lib/python3.10/site-packages (from matplotlib->-r requirements.txt (line 5)) (0.12.1)\n",
      "Requirement already satisfied: fonttools>=4.22.0 in /opt/conda/envs/sagemaker-distribution/lib/python3.10/site-packages (from matplotlib->-r requirements.txt (line 5)) (4.50.0)\n",
      "Requirement already satisfied: kiwisolver>=1.3.1 in /opt/conda/envs/sagemaker-distribution/lib/python3.10/site-packages (from matplotlib->-r requirements.txt (line 5)) (1.4.5)\n",
      "Requirement already satisfied: pyparsing>=2.3.1 in /opt/conda/envs/sagemaker-distribution/lib/python3.10/site-packages (from matplotlib->-r requirements.txt (line 5)) (3.1.2)\n",
      "Requirement already satisfied: python-dateutil>=2.7 in /opt/conda/envs/sagemaker-distribution/lib/python3.10/site-packages (from matplotlib->-r requirements.txt (line 5)) (2.9.0)\n",
      "Requirement already satisfied: aiohttp!=4.0.0a0,!=4.0.0a1 in /opt/conda/envs/sagemaker-distribution/lib/python3.10/site-packages (from fsspec[http]>2021.06.0->pytorch-lightning->-r requirements.txt (line 2)) (3.9.3)\n",
      "Requirement already satisfied: cachetools<6.0,>=2.0.0 in /opt/conda/envs/sagemaker-distribution/lib/python3.10/site-packages (from google-auth<3,>=1.6.3->tensorboard->-r requirements.txt (line 4)) (5.3.3)\n",
      "Requirement already satisfied: pyasn1-modules>=0.2.1 in /opt/conda/envs/sagemaker-distribution/lib/python3.10/site-packages (from google-auth<3,>=1.6.3->tensorboard->-r requirements.txt (line 4)) (0.3.0)\n",
      "Requirement already satisfied: rsa<5,>=3.1.4 in /opt/conda/envs/sagemaker-distribution/lib/python3.10/site-packages (from google-auth<3,>=1.6.3->tensorboard->-r requirements.txt (line 4)) (4.9)\n",
      "Requirement already satisfied: requests-oauthlib>=0.7.0 in /opt/conda/envs/sagemaker-distribution/lib/python3.10/site-packages (from google-auth-oauthlib<1.1,>=0.5->tensorboard->-r requirements.txt (line 4)) (2.0.0)\n",
      "Requirement already satisfied: six>=1.5 in /opt/conda/envs/sagemaker-distribution/lib/python3.10/site-packages (from python-dateutil>=2.7->matplotlib->-r requirements.txt (line 5)) (1.16.0)\n",
      "Requirement already satisfied: charset-normalizer<4,>=2 in /opt/conda/envs/sagemaker-distribution/lib/python3.10/site-packages (from requests->torchvision->-r requirements.txt (line 3)) (3.3.2)\n",
      "Requirement already satisfied: idna<4,>=2.5 in /opt/conda/envs/sagemaker-distribution/lib/python3.10/site-packages (from requests->torchvision->-r requirements.txt (line 3)) (3.6)\n",
      "Requirement already satisfied: urllib3<3,>=1.21.1 in /opt/conda/envs/sagemaker-distribution/lib/python3.10/site-packages (from requests->torchvision->-r requirements.txt (line 3)) (1.26.18)\n",
      "Requirement already satisfied: certifi>=2017.4.17 in /opt/conda/envs/sagemaker-distribution/lib/python3.10/site-packages (from requests->torchvision->-r requirements.txt (line 3)) (2024.2.2)\n",
      "Requirement already satisfied: MarkupSafe>=2.1.1 in /opt/conda/envs/sagemaker-distribution/lib/python3.10/site-packages (from werkzeug>=1.0.1->tensorboard->-r requirements.txt (line 4)) (2.1.5)\n",
      "Requirement already satisfied: mpmath>=0.19 in /opt/conda/envs/sagemaker-distribution/lib/python3.10/site-packages (from sympy->torch->-r requirements.txt (line 1)) (1.3.0)\n",
      "Requirement already satisfied: aiosignal>=1.1.2 in /opt/conda/envs/sagemaker-distribution/lib/python3.10/site-packages (from aiohttp!=4.0.0a0,!=4.0.0a1->fsspec[http]>2021.06.0->pytorch-lightning->-r requirements.txt (line 2)) (1.3.1)\n",
      "Requirement already satisfied: attrs>=17.3.0 in /opt/conda/envs/sagemaker-distribution/lib/python3.10/site-packages (from aiohttp!=4.0.0a0,!=4.0.0a1->fsspec[http]>2021.06.0->pytorch-lightning->-r requirements.txt (line 2)) (23.2.0)\n",
      "Requirement already satisfied: frozenlist>=1.1.1 in /opt/conda/envs/sagemaker-distribution/lib/python3.10/site-packages (from aiohttp!=4.0.0a0,!=4.0.0a1->fsspec[http]>2021.06.0->pytorch-lightning->-r requirements.txt (line 2)) (1.4.1)\n",
      "Requirement already satisfied: multidict<7.0,>=4.5 in /opt/conda/envs/sagemaker-distribution/lib/python3.10/site-packages (from aiohttp!=4.0.0a0,!=4.0.0a1->fsspec[http]>2021.06.0->pytorch-lightning->-r requirements.txt (line 2)) (6.0.5)\n",
      "Requirement already satisfied: yarl<2.0,>=1.0 in /opt/conda/envs/sagemaker-distribution/lib/python3.10/site-packages (from aiohttp!=4.0.0a0,!=4.0.0a1->fsspec[http]>2021.06.0->pytorch-lightning->-r requirements.txt (line 2)) (1.9.4)\n",
      "Requirement already satisfied: async-timeout<5.0,>=4.0 in /opt/conda/envs/sagemaker-distribution/lib/python3.10/site-packages (from aiohttp!=4.0.0a0,!=4.0.0a1->fsspec[http]>2021.06.0->pytorch-lightning->-r requirements.txt (line 2)) (4.0.3)\n",
      "Requirement already satisfied: pyasn1<0.6.0,>=0.4.6 in /opt/conda/envs/sagemaker-distribution/lib/python3.10/site-packages (from pyasn1-modules>=0.2.1->google-auth<3,>=1.6.3->tensorboard->-r requirements.txt (line 4)) (0.5.1)\n",
      "Requirement already satisfied: oauthlib>=3.0.0 in /opt/conda/envs/sagemaker-distribution/lib/python3.10/site-packages (from requests-oauthlib>=0.7.0->google-auth-oauthlib<1.1,>=0.5->tensorboard->-r requirements.txt (line 4)) (3.2.2)\n"
     ]
    }
   ],
   "source": [
    "!pip install -r requirements.txt"
   ]
  },
  {
   "cell_type": "code",
   "execution_count": 2,
   "id": "f60888fc-2a63-4c57-aae8-bd58324837e6",
   "metadata": {
    "tags": []
   },
   "outputs": [
    {
     "name": "stderr",
     "output_type": "stream",
     "text": [
      "2024-06-02 04:03:42.741018: I tensorflow/core/platform/cpu_feature_guard.cc:182] This TensorFlow binary is optimized to use available CPU instructions in performance-critical operations.\n",
      "To enable the following instructions: SSE4.1 SSE4.2 AVX AVX2 AVX512F FMA, in other operations, rebuild TensorFlow with the appropriate compiler flags.\n"
     ]
    }
   ],
   "source": [
    "import os\n",
    "from argparse import ArgumentParser\n",
    "from time import time\n",
    "import matplotlib.pyplot as plt\n",
    "from copy import deepcopy\n",
    "import inspect\n",
    "import gc\n",
    "import numpy as np\n",
    "import math\n",
    "\n",
    "import torch\n",
    "import torch.nn as nn\n",
    "from torch.optim import AdamW\n",
    "from torch.nn import L1Loss\n",
    "from torch.utils.data import DataLoader\n",
    "from torchvision.datasets import MNIST\n",
    "from torchvision.utils import save_image\n",
    "from torchvision.transforms import Compose, ToTensor, Lambda, RandomAffine, Normalize\n",
    "import pytorch_lightning as pl\n",
    "from pytorch_lightning.loggers import TensorBoardLogger\n",
    "from pytorch_lightning.callbacks import ModelCheckpoint"
   ]
  },
  {
   "cell_type": "code",
   "execution_count": 3,
   "id": "78f4f4a1-cf69-461b-93f4-cdb7b8497b48",
   "metadata": {
    "tags": []
   },
   "outputs": [],
   "source": [
    "from CIGN_channel.model_with_channel_conditioning import CIGNWithChannelConditioning\n",
    "from idempotent_networks import IdempotentNetworkWithConditioning"
   ]
  },
  {
   "cell_type": "code",
   "execution_count": 4,
   "id": "9df6cafa-9716-4a7b-a8de-1731f3f7d154",
   "metadata": {
    "tags": []
   },
   "outputs": [],
   "source": [
    "# Initialize model\n",
    "prior = torch.distributions.Normal(torch.zeros(1, 28, 28), torch.ones(1, 28, 28))\n",
    "net = CIGNWithChannelConditioning(data_channels=1, \n",
    "                                  latent_dim=64, \n",
    "                                  intermediate_dim=128, \n",
    "                                  embedding_dim=5)"
   ]
  },
  {
   "cell_type": "code",
   "execution_count": 5,
   "id": "f6ff5bb7-fec8-42bb-b904-90d72a96e8f1",
   "metadata": {
    "tags": []
   },
   "outputs": [
    {
     "name": "stderr",
     "output_type": "stream",
     "text": [
      "/opt/conda/envs/sagemaker-distribution/lib/python3.10/site-packages/pytorch_lightning/utilities/migration/utils.py:55: PossibleUserWarning: The loaded checkpoint was produced with Lightning v2.2.0.post0, which is newer than your current Lightning version: v2.0.9\n",
      "  rank_zero_warn(\n"
     ]
    }
   ],
   "source": [
    "model = (\n",
    "    IdempotentNetworkWithConditioning.load_from_checkpoint(\n",
    "        \"checkpoints_with_channel_conditioning/1716763544/epoch=24_best_checkpoint.ckpt\", \n",
    "        prior=prior, \n",
    "        model=net,\n",
    "        map_location=torch.device('cpu')\n",
    "    )\n",
    "    .eval()\n",
    ")"
   ]
  },
  {
   "cell_type": "markdown",
   "id": "d04686f6-25c5-4933-a4a8-03571b8934ed",
   "metadata": {},
   "source": [
    "### Utility functions to visualize generated images"
   ]
  },
  {
   "cell_type": "code",
   "execution_count": 6,
   "id": "212fd35a-dc94-450d-8c38-57c786049805",
   "metadata": {
    "tags": []
   },
   "outputs": [],
   "source": [
    "def map_noise_to_label(model, noise, label):\n",
    "    y = torch.full(\n",
    "        (noise.shape[0],),\n",
    "        label\n",
    "    )\n",
    "    \n",
    "    return model(noise, y)[0]\n",
    "\n",
    "def plot_noise_to_label(model, noise, label, path = None):\n",
    "    generated_images = map_noise_to_label(model, noise, label)\n",
    "    \n",
    "    num_generated_images = generated_images.shape[0]\n",
    "    \n",
    "    f, axarr = plt.subplots(math.ceil(num_generated_images / 2), 2)\n",
    "    \n",
    "    for idx, image in enumerate(generated_images):\n",
    "        row_number = math.floor(idx / 2)\n",
    "        col_number = int(math.remainder(idx, 2))\n",
    "        axarr[row_number, col_number].imshow(\n",
    "            generated_images[idx].squeeze().detach().numpy(), \n",
    "            cmap = 'gray')\n",
    "        \n",
    "        axarr[row_number, col_number].set_axis_off()\n",
    "        \n",
    "    if path:\n",
    "        plt.savefig(path, bbox_inches='tight')"
   ]
  },
  {
   "cell_type": "code",
   "execution_count": 7,
   "id": "a3a0d950-b0a6-40c2-926a-e801ce281a46",
   "metadata": {
    "tags": []
   },
   "outputs": [],
   "source": [
    "def generate_many_digits_from_same_noise(model, noise, path=None):\n",
    "    \n",
    "    generated_list = []\n",
    "    for label in range(10):\n",
    "        y = torch.full(\n",
    "            (noise.shape[0],),\n",
    "            label\n",
    "        )\n",
    "\n",
    "        generated_list.append(model(noise, y)[0])\n",
    "        \n",
    "    generated_images = torch.concat(generated_list)\n",
    "    \n",
    "    f, axarr = plt.subplots(noise.shape[0] * 5, 2)\n",
    "    \n",
    "    for idx, image in enumerate(generated_images):\n",
    "        row_number = math.floor(idx / 2)\n",
    "        col_number = int(math.remainder(idx, 2))\n",
    "        axarr[row_number, col_number].imshow(\n",
    "            generated_images[idx].squeeze().detach().numpy(), \n",
    "            cmap = 'gray')\n",
    "        \n",
    "        axarr[row_number, col_number].set_axis_off()\n",
    "        \n",
    "    if path:\n",
    "        plt.savefig(path, bbox_inches='tight')"
   ]
  },
  {
   "cell_type": "code",
   "execution_count": 8,
   "id": "9e559443-a701-483c-8ac0-dada56aa012b",
   "metadata": {
    "tags": []
   },
   "outputs": [
    {
     "name": "stderr",
     "output_type": "stream",
     "text": [
      "/opt/conda/envs/sagemaker-distribution/lib/python3.10/site-packages/torch/distributions/distribution.py:173: UserWarning: sample_n will be deprecated. Use .sample((n,)) instead\n",
      "  warnings.warn('sample_n will be deprecated. Use .sample((n,)) instead', UserWarning)\n"
     ]
    },
    {
     "data": {
      "text/plain": [
       "torch.Size([6, 1, 28, 28])"
      ]
     },
     "execution_count": 8,
     "metadata": {},
     "output_type": "execute_result"
    }
   ],
   "source": [
    "many_noise = model.prior.sample_n(n = 6)\n",
    "many_noise.shape"
   ]
  },
  {
   "cell_type": "code",
   "execution_count": 9,
   "id": "9eb2c78b-50df-4a8c-affc-71f141144a5d",
   "metadata": {
    "tags": []
   },
   "outputs": [
    {
     "data": {
      "image/png": "[encoded data removed]",
      "text/plain": [
       "<Figure size 640x480 with 6 Axes>"
      ]
     },
     "metadata": {},
     "output_type": "display_data"
    }
   ],
   "source": [
    "plot_noise_to_label(model, many_noise, label = 0, \n",
    "                    #path = 'zero.png'\n",
    "                   )"
   ]
  },
  {
   "cell_type": "code",
   "execution_count": 14,
   "id": "a7ff6a31-1585-4696-a09b-97bb000c21d1",
   "metadata": {
    "tags": []
   },
   "outputs": [
    {
     "data": {
      "text/plain": [
       "torch.Size([1, 1, 28, 28])"
      ]
     },
     "execution_count": 14,
     "metadata": {},
     "output_type": "execute_result"
    }
   ],
   "source": [
    "single_noise = model.prior.sample_n(n = 1)\n",
    "single_noise.shape"
   ]
  },
  {
   "cell_type": "code",
   "execution_count": 16,
   "id": "6d485817-ba23-4eb1-8045-3d0dc03c3df1",
   "metadata": {
    "tags": []
   },
   "outputs": [
    {
     "data": {
      "image/png": "[encoded data removed]",
      "text/plain": [
       "<Figure size 640x480 with 10 Axes>"
      ]
     },
     "metadata": {},
     "output_type": "display_data"
    }
   ],
   "source": [
    "generate_many_digits_from_same_noise(\n",
    "    model, \n",
    "    single_noise, \n",
    "    #path = 'sample_images/channel_conditioning/all_digits - channel large.png'\n",
    ")"
   ]
  }
 ],
 "metadata": {
  "kernelspec": {
   "display_name": "sagemaker-distribution:Python",
   "language": "python",
   "name": "conda-env-sagemaker-distribution-py"
  },
  "language_info": {
   "codemirror_mode": {
    "name": "ipython",
    "version": 3
   },
   "file_extension": ".py",
   "mimetype": "text/x-python",
   "name": "python",
   "nbconvert_exporter": "python",
   "pygments_lexer": "ipython3",
   "version": "3.10.14"
  }
 },
 "nbformat": 4,
 "nbformat_minor": 5
}
